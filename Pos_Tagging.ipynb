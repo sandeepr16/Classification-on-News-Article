{
  "nbformat": 4,
  "nbformat_minor": 0,
  "metadata": {
    "colab": {
      "name": "Pos Tagging",
      "provenance": [],
      "collapsed_sections": []
    },
    "kernelspec": {
      "name": "python3",
      "display_name": "Python 3"
    }
  },
  "cells": [
    {
      "cell_type": "code",
      "metadata": {
        "id": "CqTzp4rRhxbO",
        "colab_type": "code",
        "colab": {}
      },
      "source": [
        "import spacy\n",
        "nlp = spacy.load('en')"
      ],
      "execution_count": 1,
      "outputs": []
    },
    {
      "cell_type": "code",
      "metadata": {
        "id": "JMw1hroHh1ZG",
        "colab_type": "code",
        "colab": {}
      },
      "source": [
        "example = nlp(\"In our joint fight against Covid-19, India has extended medical and other assistance to over 150 countries, said Prime Minister Narendra Modi on Friday at High-Level Segment of the United Nations Economic and Social Council Session, 2020, via video conference. Today, the United Nations brings together 193 member countries. Along with its membership, the expectations from the organisation have also grown, said Modi in his virtual address at Ecosoc session. From the very beginning, India has actively supported the UN's development work and the Ecosoc. The first president of Ecosoc was an Indian. India also contributed to shaping the Ecosoc agenda,Modi added. Today, through our domestic efforts, we are again playing a salient role in achieving Agenda 2030 and the Sustainable Development Goals. We are also supporting other developing countries in meeting their Sustainable Development Goals, Modi further said.\")"
      ],
      "execution_count": 2,
      "outputs": []
    },
    {
      "cell_type": "code",
      "metadata": {
        "id": "QiQomB4ClTjb",
        "colab_type": "code",
        "colab": {}
      },
      "source": [
        "noun_words = []\n",
        "pronoun_words = []\n",
        "verb_words = []\n",
        "adverb_words = []\n",
        "adjective_words = []\n",
        "preposition_words = []\n",
        "conjunction_words = []\n",
        "interjection_words = []\n",
        "for word in example :\n",
        "  if word.tag_ == 'NN'  or word.pos_ == \"NNP\" or word.pos_ == \"PROPN\" or word.pos_ == \"NNPS\" or word.pos_ == \"NNS\" or word.pos_ == \"NOUN\":\n",
        "    noun_words.append(word)\n",
        "  elif word.tag_ == \"WP\" or word.tag_ == \"PRP\" or word.tag_ == \"PRP$\" or word.pos_ == \"PRON\" :\n",
        "    pronoun_words.append(word)\n",
        "  elif word.tag_ == \"VBN\" or word.tag_ == \"VBP\" or word.tag_ == \"VBZ\" or  word.tag_ == \"VB\" or word.tag_ == \"VBG\" or word.tag_ == \"VBD\":\n",
        "    verb_words.append(word)\n",
        "  elif word.tag_ == \"RB\" or word.tag_ == \"RBS\" or word.tag_ == \"RBR\" or  word.tag_ == \"WRB\":\n",
        "    adverb_words.append(word)\n",
        "  elif word.tag_==\"JJ\" or word.tag_==\"JR\" or word.tag_==\"JS\":\n",
        "    adjective_words.append(word)\n",
        "  elif word.tag == \"ADP\" or word.tag_ == \"IN\":\n",
        "    preposition_words.append(word)\n",
        "  elif word.tag_ == \"CC\" :\n",
        "    conjunction_words.append(word)\n",
        "  elif word.tag_ == \"UH\" :\n",
        "    interjection_words.append(word)"
      ],
      "execution_count": 3,
      "outputs": []
    },
    {
      "cell_type": "code",
      "metadata": {
        "id": "F6-3FYNEmKXq",
        "colab_type": "code",
        "colab": {
          "base_uri": "https://localhost:8080/",
          "height": 306
        },
        "outputId": "ed0ae47c-8dfd-44c4-aa4f-8191cd25ab03"
      },
      "source": [
        "print(\"NOUN WORDS\" , noun_words)\n",
        "print(\"NOUN WORDS Count is \" , len(noun_words))\n",
        "print(\"PRONOUN WORDS\" , pronoun_words)\n",
        "print(\"NOUN WORDS Count is \" , len(pronoun_words))\n",
        "print(\"VERB WORDS\" , verb_words)\n",
        "print(\"NOUN WORDS Count is \" , len(verb_words))\n",
        "print(\"ADVERB WORDS\" , adverb_words)\n",
        "print(\"NOUN WORDS Count is \" , len(adverb_words))\n",
        "print(\"ADJECTIVE WORDS\" ,  adjective_words)\n",
        "print(\"NOUN WORDS Count is \" , len(adjective_words))\n",
        "print(\"PREPOSITION WORDS\" , preposition_words)\n",
        "print(\"NOUN WORDS Count is \" , len(preposition_words))\n",
        "print(\"CONJUNCTION WORDS\" , conjunction_words)\n",
        "print(\"NOUN WORDS Count is \" , len(conjunction_words))\n",
        "print(\"INTERJECTION WORDS \" , interjection_words)\n",
        "print(\"NOUN WORDS Count is \" , len(interjection_words))"
      ],
      "execution_count": 11,
      "outputs": [
        {
          "output_type": "stream",
          "text": [
            "NOUN WORDS [fight, Covid-19, India, assistance, countries, Prime, Minister, Narendra, Modi, Friday, Level, Segment, United, Nations, Economic, Social, Council, Session, video, conference, Today, United, Nations, member, countries, membership, expectations, organisation, Modi, address, Ecosoc, session, beginning, India, UN, development, work, Ecosoc, president, Ecosoc, Indian, India, Ecosoc, agenda, Modi, Today, efforts, role, Agenda, Sustainable, Development, Goals, countries, Sustainable, Development, Goals, Modi]\n",
            "NOUN WORDS Count is  57\n",
            "PRONOUN WORDS [our, its, his, our, we, We, their]\n",
            "NOUN WORDS Count is  7\n",
            "VERB WORDS [has, extended, said, brings, have, grown, said, has, supported, was, contributed, shaping, added, are, playing, achieving, are, supporting, developing, meeting, said]\n",
            "NOUN WORDS Count is  21\n",
            "ADVERB WORDS [together, also, actively, also, again, also, further]\n",
            "NOUN WORDS Count is  7\n",
            "ADJECTIVE WORDS [joint, medical, other, High, virtual, very, first, domestic, salient, other]\n",
            "NOUN WORDS Count is  10\n",
            "PREPOSITION WORDS [In, against, to, over, on, at, of, via, Along, with, from, in, at, From, of, to, through, in, in]\n",
            "NOUN WORDS Count is  19\n",
            "CONJUNCTION WORDS [and, and, and, and]\n",
            "NOUN WORDS Count is  4\n",
            "INTERJECTION WORDS  []\n",
            "NOUN WORDS Count is  0\n"
          ],
          "name": "stdout"
        }
      ]
    },
    {
      "cell_type": "code",
      "metadata": {
        "id": "DZDprxnUxdpE",
        "colab_type": "code",
        "colab": {}
      },
      "source": [
        ""
      ],
      "execution_count": null,
      "outputs": []
    }
  ]
}